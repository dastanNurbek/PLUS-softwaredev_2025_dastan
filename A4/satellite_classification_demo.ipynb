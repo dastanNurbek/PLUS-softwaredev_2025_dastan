{
 "cells": [
  {
   "cell_type": "markdown",
   "id": "c1fe0d4c",
   "metadata": {},
   "source": [
    "# Satellite Image Classification Demo\n",
    "\n",
    "This notebook demonstrates how to use the satellite image classification utilities for comparing multiple pretrained models on satellite imagery."
   ]
  },
  {
   "cell_type": "markdown",
   "id": "a706060c",
   "metadata": {},
   "source": [
    "## Setup and Import"
   ]
  },
  {
   "cell_type": "code",
   "execution_count": null,
   "id": "9a672e50",
   "metadata": {
    "vscode": {
     "languageId": "plaintext"
    }
   },
   "outputs": [],
   "source": [
    "from satellite_classification_utils import load_pretrained_models, classify_satellite_image, visualize_comparison"
   ]
  },
  {
   "cell_type": "markdown",
   "id": "d694f49b",
   "metadata": {},
   "source": [
    "## Load Pretrained Models"
   ]
  },
  {
   "cell_type": "code",
   "execution_count": null,
   "id": "4d8d7956",
   "metadata": {
    "vscode": {
     "languageId": "plaintext"
    }
   },
   "outputs": [],
   "source": [
    "print(\"Loading pretrained models...\")\n",
    "models = load_pretrained_models()"
   ]
  },
  {
   "cell_type": "markdown",
   "id": "5a1db13a",
   "metadata": {},
   "source": [
    "## Classify Satellite Images"
   ]
  },
  {
   "cell_type": "code",
   "execution_count": null,
   "id": "d21b95b6",
   "metadata": {
    "vscode": {
     "languageId": "plaintext"
    }
   },
   "outputs": [],
   "source": [
    "# Classify an image (example with a local satellite image)\n",
    "image_path = \"images/test_4.png\"\n",
    "print(f\"\\nClassifying image: {image_path}\")\n",
    "results = classify_satellite_image(models, image_path)\n",
    "\n",
    "# Print summary of results\n",
    "print(f\"\\nClassification completed!\")\n",
    "print(f\"Models processed: {len(results)}\")\n",
    "for model_name, result in results.items():\n",
    "    if 'error' not in result:\n",
    "        top_prediction = result['predictions'][0]\n",
    "        print(f\"  {model_name}: {top_prediction['class']} ({top_prediction['confidence']:.3f})\")\n",
    "    else:\n",
    "        print(f\"  {model_name}: Error - {result['error']}\")"
   ]
  },
  {
   "cell_type": "markdown",
   "id": "f85a5f88",
   "metadata": {},
   "source": [
    "## Visualize Comparison Results"
   ]
  },
  {
   "cell_type": "code",
   "execution_count": null,
   "id": "b53ffc9d",
   "metadata": {
    "vscode": {
     "languageId": "plaintext"
    }
   },
   "outputs": [],
   "source": [
    "visualize_comparison(image_path, results, \"Satellite Image Classification Comparison\")"
   ]
  },
  {
   "cell_type": "markdown",
   "id": "e318ee92",
   "metadata": {},
   "source": [
    "## Model Performance Summary"
   ]
  },
  {
   "cell_type": "code",
   "execution_count": null,
   "id": "b54ca4ed",
   "metadata": {
    "vscode": {
     "languageId": "plaintext"
    }
   },
   "outputs": [],
   "source": [
    "# Display detailed results for analysis\n",
    "def print_detailed_results(results, image_name):\n",
    "    \"\"\"Print detailed classification results for analysis\"\"\"\n",
    "    print(f\"\\n{'='*60}\")\n",
    "    print(f\"DETAILED RESULTS FOR: {image_name}\")\n",
    "    print(f\"{'='*60}\")\n",
    "    \n",
    "    for model_name, result in results.items():\n",
    "        print(f\"\\n🤖 {model_name}\")\n",
    "        print(\"-\" * 40)\n",
    "        \n",
    "        if 'error' in result:\n",
    "            print(f\"❌ Error: {result['error']}\")\n",
    "            continue\n",
    "            \n",
    "        print(f\"Number of classes: {result['num_classes']}\")\n",
    "        print(\"Top 5 predictions:\")\n",
    "        \n",
    "        for i, pred in enumerate(result['predictions'][:5], 1):\n",
    "            bar_length = int(pred['confidence'] * 30)\n",
    "            confidence_bar = \"█\" * bar_length + \"░\" * (30 - bar_length)\n",
    "            print(f\"  {i}. {pred['class']:<25} {pred['confidence']:.4f} │{confidence_bar}│\")\n",
    "\n",
    "# Show detailed results for the first image\n",
    "print_detailed_results(results, image_path)"
   ]
  }
 ],
 "metadata": {
  "language_info": {
   "name": "python"
  }
 },
 "nbformat": 4,
 "nbformat_minor": 5
}
